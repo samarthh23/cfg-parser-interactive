{
 "cells": [
  {
   "cell_type": "code",
   "execution_count": null,
   "id": "3379f6ac-a16b-4362-9f14-392e10c20475",
   "metadata": {},
   "outputs": [
    {
     "name": "stdout",
     "output_type": "stream",
     "text": [
      "Welcome to the CFG Parser!\n",
      "\n",
      "Enter your grammar rules (in CFG format). When done, type 'END' on a new line:\n"
     ]
    },
    {
     "name": "stdin",
     "output_type": "stream",
     "text": [
      " S -> NP VP\n",
      " NP -> Pronoun | Det N | Det N PP\n",
      " VP -> V NP | V NP PP\n",
      " \n",
      " PP -> P NP\n",
      " Det -> 'the'\n",
      " N -> 'man' | 'telescope'\n",
      " V -> 'saw'\n",
      " P -> 'with'\n",
      " Pronoun -> 'I'\n",
      " end\n"
     ]
    },
    {
     "name": "stdout",
     "output_type": "stream",
     "text": [
      "\n",
      "Grammar successfully loaded! Start entering sentences to parse. Type 'stop' to quit.\n"
     ]
    },
    {
     "name": "stdin",
     "output_type": "stream",
     "text": [
      "\n",
      "Enter a sentence to parse (or type 'stop' to exit):  I saw the man with the telescope\n"
     ]
    },
    {
     "name": "stdout",
     "output_type": "stream",
     "text": [
      "\n",
      "Parsing the sentence...\n",
      "\n",
      "Number of parse trees: 2\n",
      "\n",
      "Parse Tree 1:\n",
      "         S                                    \n",
      "    _____|___________                          \n",
      "   |                 VP                       \n",
      "   |      ___________|________                 \n",
      "   |     |       |            PP              \n",
      "   |     |       |        ____|___             \n",
      "   NP    |       NP      |        NP          \n",
      "   |     |    ___|___    |     ___|______      \n",
      "Pronoun  V  Det      N   P   Det         N    \n",
      "   |     |   |       |   |    |          |     \n",
      "   I    saw the     man with the     telescope\n",
      "\n",
      "\n",
      "Parse Tree 2:\n",
      "         S                                \n",
      "    _____|_______                          \n",
      "   |             VP                       \n",
      "   |      _______|___                      \n",
      "   |     |           NP                   \n",
      "   |     |    _______|____                 \n",
      "   |     |   |   |        PP              \n",
      "   |     |   |   |    ____|___             \n",
      "   NP    |   |   |   |        NP          \n",
      "   |     |   |   |   |     ___|______      \n",
      "Pronoun  V  Det  N   P   Det         N    \n",
      "   |     |   |   |   |    |          |     \n",
      "   I    saw the man with the     telescope\n",
      "\n",
      "\n",
      "This grammar is ambiguous because it generated more than one parse tree for the same sentence.\n"
     ]
    }
   ],
   "source": [
    "import nltk\n",
    "from nltk import CFG, ChartParser\n",
    "\n",
    "def nlp_with_cfg_interactive():\n",
    "    print(\"Welcome to the CFG Parser!\")\n",
    "\n",
    "    print(\"\\nEnter your grammar rules (in CFG format). When done, type 'END' on a new line:\")\n",
    "    grammar_lines = []\n",
    "    while True:\n",
    "        line = input()\n",
    "        if line.strip().upper() == \"END\":\n",
    "            break\n",
    "        grammar_lines.append(line)\n",
    "    grammar_rules = \"\\n\".join(grammar_lines)\n",
    "\n",
    "    try:\n",
    "        cfg = CFG.fromstring(grammar_rules)\n",
    "    except ValueError as e:\n",
    "        print(f\"\\nError in grammar definition: {e}\")\n",
    "        return\n",
    "\n",
    "    parser = ChartParser(cfg)\n",
    "    \n",
    "    print(\"\\nGrammar successfully loaded! Start entering sentences to parse. Type 'stop' to quit.\")\n",
    "    \n",
    "    while True:\n",
    "        sentence = input(\"\\nEnter a sentence to parse (or type 'stop' to exit): \")\n",
    "        if sentence.strip().lower() == \"stop\":\n",
    "            print(\"\\nExiting the CFG Parser. Goodbye!\")\n",
    "            break\n",
    "        \n",
    "  \n",
    "        try:\n",
    "            words = nltk.word_tokenize(sentence)\n",
    "        except LookupError:\n",
    "            print(\"\\nDownloading necessary NLTK data...\")\n",
    "            nltk.download(\"punkt\")\n",
    "            words = nltk.word_tokenize(sentence)\n",
    "        \n",
    "        print(\"\\nParsing the sentence...\")\n",
    "        trees = list(parser.parse(words))\n",
    "\n",
    "        if not trees:\n",
    "            print(\"No valid parse trees were found for the given sentence and grammar.\")\n",
    "        else:\n",
    "            print(f\"\\nNumber of parse trees: {len(trees)}\")\n",
    "            for i, tree in enumerate(trees, start=1):\n",
    "                print(f\"\\nParse Tree {i}:\")\n",
    "                tree.pretty_print()\n",
    "\n",
    "            if len(trees) > 1:\n",
    "                print(\"\\nThis grammar is ambiguous because it generated more than one parse tree for the same sentence.\")\n",
    "\n",
    "nlp_with_cfg_interactive()\n"
   ]
  },
  {
   "cell_type": "code",
   "execution_count": null,
   "id": "77f7ebc0-7da1-4081-b746-7d12ffde8c49",
   "metadata": {},
   "outputs": [],
   "source": []
  }
 ],
 "metadata": {
  "kernelspec": {
   "display_name": "Python 3 (ipykernel)",
   "language": "python",
   "name": "python3"
  },
  "language_info": {
   "codemirror_mode": {
    "name": "ipython",
    "version": 3
   },
   "file_extension": ".py",
   "mimetype": "text/x-python",
   "name": "python",
   "nbconvert_exporter": "python",
   "pygments_lexer": "ipython3",
   "version": "3.12.4"
  }
 },
 "nbformat": 4,
 "nbformat_minor": 5
}
